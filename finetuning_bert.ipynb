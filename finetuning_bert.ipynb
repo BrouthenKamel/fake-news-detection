{
  "cells": [
    {
      "cell_type": "markdown",
      "metadata": {
        "id": "b17A-WYm9v_B"
      },
      "source": [
        "# Modules"
      ]
    },
    {
      "cell_type": "code",
      "execution_count": 9,
      "metadata": {
        "id": "K6ObVyvc9v_D"
      },
      "outputs": [],
      "source": [
        "import pandas as pd\n",
        "from transformers import BertTokenizer, TFBertForSequenceClassification\n",
        "import tensorflow as tf\n",
        "\n",
        "from tensorflow.keras.optimizers import Adam\n",
        "from tensorflow.keras.losses import BinaryCrossentropy"
      ]
    },
    {
      "cell_type": "markdown",
      "metadata": {
        "id": "XOhIt2Jm9v_E"
      },
      "source": [
        "# Dataset"
      ]
    },
    {
      "cell_type": "code",
      "execution_count": 10,
      "metadata": {
        "colab": {
          "base_uri": "https://localhost:8080/"
        },
        "id": "R8MHWPN29v_E",
        "outputId": "d1e5d42f-3b67-4dbe-d746-1e26a20d753e"
      },
      "outputs": [
        {
          "output_type": "stream",
          "name": "stdout",
          "text": [
            "Dataset columns:  Index(['tweet', 'label'], dtype='object')\n"
          ]
        }
      ],
      "source": [
        "df = pd.read_csv('./fake_news_tweets.csv', delimiter=';')\n",
        "print(\"Dataset columns: \", df.columns)"
      ]
    },
    {
      "cell_type": "markdown",
      "metadata": {
        "id": "v7kiqbme9v_F"
      },
      "source": [
        "# Bert model"
      ]
    },
    {
      "cell_type": "markdown",
      "metadata": {
        "id": "ok7pqcv49v_F"
      },
      "source": [
        "## Tokenizer"
      ]
    },
    {
      "cell_type": "code",
      "execution_count": 11,
      "metadata": {
        "id": "om-RCRBO9v_F"
      },
      "outputs": [],
      "source": [
        "tokenizer = BertTokenizer.from_pretrained('bert-base-uncased')\n",
        "\n",
        "tokenized_texts = tokenizer(df['tweet'].tolist(), padding=True, truncation=True, return_tensors='tf')\n",
        "labels = df['label'].tolist()"
      ]
    },
    {
      "cell_type": "markdown",
      "metadata": {
        "id": "jM5Nkbkb9v_F"
      },
      "source": [
        "## Classification model"
      ]
    },
    {
      "cell_type": "code",
      "execution_count": null,
      "metadata": {
        "id": "85Po7zLE9v_F"
      },
      "outputs": [],
      "source": [
        "model_name = 'bert-base-uncased'\n",
        "model = TFBertForSequenceClassification.from_pretrained(model_name, num_labels=1)"
      ]
    },
    {
      "cell_type": "markdown",
      "metadata": {
        "id": "jZs-EnFP9v_F"
      },
      "source": [
        "# Training"
      ]
    },
    {
      "cell_type": "markdown",
      "metadata": {
        "id": "5KIzxGym9v_F"
      },
      "source": [
        "## Model compilation"
      ]
    },
    {
      "cell_type": "code",
      "execution_count": 13,
      "metadata": {
        "id": "s1uWmIXl9v_G"
      },
      "outputs": [],
      "source": [
        "model.compile(optimizer=Adam(learning_rate=2e-5),\n",
        "              loss=BinaryCrossentropy(from_logits=True),\n",
        "              metrics=['accuracy'])"
      ]
    },
    {
      "cell_type": "markdown",
      "metadata": {
        "id": "jp_7UbLg9v_G"
      },
      "source": [
        "## Traning data"
      ]
    },
    {
      "cell_type": "code",
      "execution_count": 14,
      "metadata": {
        "id": "Wb6I_HJm9v_G"
      },
      "outputs": [],
      "source": [
        "train_dataset = tf.data.Dataset.from_tensor_slices((dict(tokenized_texts), labels))\n",
        "train_dataset = train_dataset.shuffle(50).batch(8)"
      ]
    },
    {
      "cell_type": "markdown",
      "metadata": {
        "id": "DHyU6cY69v_G"
      },
      "source": [
        "## Model fitting"
      ]
    },
    {
      "cell_type": "code",
      "execution_count": 15,
      "metadata": {
        "colab": {
          "base_uri": "https://localhost:8080/"
        },
        "id": "IMVmhdBu9v_G",
        "outputId": "817ab7d4-e0f9-407e-8861-e49621f45d09"
      },
      "outputs": [
        {
          "output_type": "stream",
          "name": "stdout",
          "text": [
            "Epoch 1/4\n",
            "7/7 [==============================] - 42s 155ms/step - loss: 0.6896 - accuracy: 0.4490\n",
            "Epoch 2/4\n",
            "7/7 [==============================] - 1s 111ms/step - loss: 0.6029 - accuracy: 0.7551\n",
            "Epoch 3/4\n",
            "7/7 [==============================] - 1s 118ms/step - loss: 0.5402 - accuracy: 0.7551\n",
            "Epoch 4/4\n",
            "7/7 [==============================] - 1s 121ms/step - loss: 0.3990 - accuracy: 0.9592\n"
          ]
        }
      ],
      "source": [
        "history = model.fit(train_dataset, epochs=4)"
      ]
    },
    {
      "cell_type": "markdown",
      "source": [
        "# Inference"
      ],
      "metadata": {
        "id": "XreaMaFi_Q6d"
      }
    },
    {
      "cell_type": "code",
      "source": [
        "def get_class(prediction):\n",
        "  threshold = 0.5\n",
        "  return 'fake' if prediction.logits[0][0] > threshold else 'real'"
      ],
      "metadata": {
        "id": "gw2fOXoTADC0"
      },
      "execution_count": 28,
      "outputs": []
    },
    {
      "cell_type": "code",
      "source": [
        "new_tweet = [\"Sample Tweet\"]\n",
        "tokenized_new_tweet = tokenizer(new_tweet, padding=True, truncation=True, return_tensors='tf')\n",
        "prediction = model.predict(dict(tokenized_new_tweet))\n",
        "get_class(prediction)"
      ],
      "metadata": {
        "id": "4C6SoChg_R9R"
      },
      "execution_count": null,
      "outputs": []
    }
  ],
  "metadata": {
    "kernelspec": {
      "display_name": "Python 3",
      "name": "python3"
    },
    "language_info": {
      "codemirror_mode": {
        "name": "ipython",
        "version": 3
      },
      "file_extension": ".py",
      "mimetype": "text/x-python",
      "name": "python",
      "nbconvert_exporter": "python",
      "pygments_lexer": "ipython3",
      "version": "3.11.6"
    },
    "colab": {
      "provenance": [],
      "gpuType": "T4"
    },
    "accelerator": "GPU"
  },
  "nbformat": 4,
  "nbformat_minor": 0
}